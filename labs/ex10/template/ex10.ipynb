{
 "cells": [
  {
   "cell_type": "code",
   "execution_count": null,
   "metadata": {},
   "outputs": [],
   "source": [
    "# Useful starting lines\n",
    "%matplotlib inline\n",
    "import numpy as np\n",
    "import matplotlib.pyplot as plt\n",
    "\n",
    "%load_ext autoreload\n",
    "%autoreload 2"
   ]
  },
  {
   "cell_type": "markdown",
   "execution_count": null,
   "metadata": {},
   "source": [
    "## Load data"
   ]
  },
  {
   "cell_type": "code",
   "execution_count": null,
   "metadata": {},
   "outputs": [],
   "source": [
    "from helper import load_data, normalize_data\n",
    "\n",
    "data = load_data()\n",
    "(N, d) = data.shape\n",
    "print(\"Number of data points: \", N)\n",
    "print(\"Dimension of each data point: \", d)"
   ]
  },
  {
   "cell_type": "markdown",
   "execution_count": null,
   "metadata": {},
   "source": [
    "### Initialize your cluster centers"
   ]
  },
  {
   "cell_type": "code",
   "execution_count": null,
   "metadata": {},
   "outputs": [],
   "source": [
    "def initialize_clusters(data, k):\n",
    "    \"\"\"randomly initialize the k cluster centers (the means). Make sure you choose k clusters from the data itself,\n",
    "             or ensure otherwise that your initializations have the same scale as the data\n",
    "\n",
    "    Args:\n",
    "        data: shape = (N, d). original data.\n",
    "        k: integer number. predefined number of clusters for the k-means algorithm.\n",
    "    Returns:\n",
    "        numpy array with shape (k, d) which corresponds to the k initial clusters.\n",
    "    \"\"\"\n",
    "    ####################################\n",
    "    ### ___ Enter your code here ___ ###\n",
    "    ####################################"
   ]
  },
  {
   "cell_type": "markdown",
   "execution_count": null,
   "metadata": {},
   "source": [
    "### Update k-means parameters"
   ]
  },
  {
   "cell_type": "markdown",
   "execution_count": null,
   "metadata": {},
   "source": [
    "#### Build distance matrix\n",
    "Build a distance matrix, collecting the distances of the original dataset to the means of the clusters.\n",
    "\n",
    "NOTE: once you finish your `build_distance_matrix`, please copy the function to the `helper.py` function. Otherwise, the `kmeans` function will not work."
   ]
  },
  {
   "cell_type": "code",
   "execution_count": null,
   "metadata": {},
   "outputs": [],
   "source": [
    "def build_distance_matrix(data, mu):\n",
    "    \"\"\"builds a distance matrix.\n",
    "\n",
    "    Args:\n",
    "        data: numpy array of shape = (N, d). original data.\n",
    "        mu:   numpy array of shape = (k, d). Each row corresponds to a cluster center.\n",
    "    Returns:\n",
    "        numpy array of shape (N, k):\n",
    "            squared distances matrix,\n",
    "            the value row i column j corresponds to the squared distance of datapoint i with cluster center j.\n",
    "    \"\"\"\n",
    "    ####################################\n",
    "    ### ___ Enter your code here ___ ###\n",
    "    ####################################"
   ]
  },
  {
   "cell_type": "markdown",
   "execution_count": null,
   "metadata": {},
   "source": [
    "#### Update k-means parameters"
   ]
  },
  {
   "cell_type": "code",
   "execution_count": null,
   "metadata": {},
   "outputs": [],
   "source": [
    "def update_kmeans_parameters(data, mu_old):\n",
    "    \"\"\"compute one step of the kmeans algorithm: using mu_old, find to which cluster each datapoint belongs to,\n",
    "            then update the parameter cluster centers.\n",
    "\n",
    "    Args:\n",
    "        data:   numpy array of shape = (N, d). original data.\n",
    "        mu_old: numpy array of shape = (k, d). Each row corresponds to a cluster center.\n",
    "    Returns:\n",
    "        losses: shape (N, ), contains the (old) squared distances of each data point to its (old) cluster mean (computed from mu_old).\n",
    "        assignments: vector of shape (N, ) which contains the cluster associated to each data point.\n",
    "        mu: updated vector mu of shape (k, d) where each row corresponds to the new cluster center.\n",
    "    \"\"\"\n",
    "    ####################################\n",
    "    ### ___ Enter your code here ___ ###\n",
    "    ####################################"
   ]
  },
  {
   "cell_type": "markdown",
   "execution_count": null,
   "metadata": {},
   "source": [
    "#### Play with k-means"
   ]
  },
  {
   "cell_type": "code",
   "execution_count": null,
   "metadata": {},
   "outputs": [],
   "source": [
    "from helper import build_dir\n",
    "from plots import plot\n",
    "\n",
    "\n",
    "def kmeans(data, k, max_iters, threshold, verbose=True):\n",
    "    \"\"\"run the k-means algorithm.\"\"\"\n",
    "    output_figure = \"kmeans_figures/\"\n",
    "    # initialize the cluster.\n",
    "    mu_old = initialize_clusters(data, k)\n",
    "    # init some empty lists to store the result.\n",
    "    loss_list = []\n",
    "\n",
    "    # start the kmeans algorithm.\n",
    "    for iteration in range(max_iters):\n",
    "        # update z and mu\n",
    "        losses, assignments, mu = update_kmeans_parameters(data, mu_old)\n",
    "        # calculate the average loss over all points\n",
    "        average_loss = np.mean(losses)\n",
    "        loss_list.append(average_loss)\n",
    "        if verbose:\n",
    "            print(\n",
    "                \"The current iteration of k-means is: {i}, \\\n",
    "                   the average loss is {l}.\".format(\n",
    "                    i=iteration, l=average_loss\n",
    "                )\n",
    "            )\n",
    "        # check convergence\n",
    "        if iteration > 0 and np.abs(loss_list[-1] - loss_list[-2]) < threshold:\n",
    "            break\n",
    "        # output plot\n",
    "        if verbose:\n",
    "            plot(data, mu, mu_old, output_figure + \"kmean_iter{i}\".format(i=iteration))\n",
    "        # update k-means information.\n",
    "        mu_old = mu\n",
    "    return average_loss\n",
    "\n",
    "\n",
    "# define parameters\n",
    "k = 2\n",
    "max_iters = 10\n",
    "threshold = 1e-5\n",
    "output_figure = \"kmeans_figures/\"\n",
    "\n",
    "# build figure dir\n",
    "build_dir(output_figure)\n",
    "\n",
    "# run kmeans algorithm\n",
    "average_loss = kmeans(data, k, max_iters, threshold)"
   ]
  },
  {
   "cell_type": "markdown",
   "execution_count": null,
   "metadata": {},
   "source": [
    "### Plotting the loss as a function of number of clusters"
   ]
  },
  {
   "cell_type": "code",
   "execution_count": null,
   "metadata": {},
   "outputs": [],
   "source": [
    "# don't worry about empty slice warnings\n",
    "import warnings\n",
    "\n",
    "warnings.filterwarnings(\"ignore\")\n",
    "\n",
    "losses = []\n",
    "ks = np.arange(2, 17)\n",
    "for k in ks:\n",
    "    average_loss = kmeans(data, k, max_iters, threshold, verbose=False)\n",
    "    losses += [average_loss]\n",
    "plt.figure(figsize=(5, 3))\n",
    "plt.xlabel(\"number of clusters k\", fontsize=13)\n",
    "plt.ylabel(\"average loss\", fontsize=13)\n",
    "plt.plot(ks, losses)\n",
    "plt.show()"
   ]
  },
  {
   "cell_type": "markdown",
   "execution_count": null,
   "metadata": {},
   "source": [
    "## Using k-means for image compresson"
   ]
  },
  {
   "cell_type": "markdown",
   "execution_count": null,
   "metadata": {},
   "source": [
    "#### load image"
   ]
  },
  {
   "cell_type": "code",
   "execution_count": null,
   "metadata": {},
   "outputs": [],
   "source": [
    "from helper import load_image\n",
    "\n",
    "image_path = \"mandrill.png\"\n",
    "original_image = load_image(image_path)\n",
    "print(\n",
    "    \"Original image: the shape of image={s}, the data type={dt}.\".format(\n",
    "        s=original_image.shape, dt=original_image.dtype\n",
    "    )\n",
    ")"
   ]
  },
  {
   "cell_type": "markdown",
   "execution_count": null,
   "metadata": {},
   "source": [
    "#### preprocess image"
   ]
  },
  {
   "cell_type": "code",
   "execution_count": null,
   "metadata": {},
   "outputs": [],
   "source": [
    "def preprocess_image(original_image):\n",
    "    \"\"\"preprocess the image.\n",
    "    vectorize the three matrices (each matrix corresponds to a RGB color channel). **don't normalize!**\n",
    "\n",
    "    Args:\n",
    "        original_image: numpy array of shape (480, 480, 3)\n",
    "    Returns:\n",
    "        processed_image: numpy array of shape (480*480, 3)\n",
    "    \"\"\"\n",
    "    ####################################\n",
    "    ### ___ Enter your code here ___ ###\n",
    "    ####################################\n",
    "\n",
    "\n",
    "processed_image = preprocess_image(original_image)"
   ]
  },
  {
   "cell_type": "code",
   "execution_count": null,
   "metadata": {},
   "outputs": [],
   "source": [
    "from plots import plot_image_compression\n",
    "\n",
    "\n",
    "def kmean_compression(original_image, processed_image, k, max_iters, threshold):\n",
    "    \"\"\"using k-means for image compression.\n",
    "    Args:\n",
    "        original_image: numpy array of shape (480, 480, 3).\n",
    "        processed_image: numpy array of shape (480*480, 3).\n",
    "        k: scalar. Number of clusters.\n",
    "        max_iters: integer. Max number of iterations for the kmeans algorithm.\n",
    "        threshold: scalar. Stop the kmeans algorithm if the loss decrease between two iterations\n",
    "                        is lower than the threshold.\n",
    "    \"\"\"\n",
    "\n",
    "    ####################################\n",
    "    ### ___ Enter your code here ___ ###\n",
    "    ####################################\n",
    "    # plot histogram\n",
    "    plot_image_compression(original_image, processed_image, assignments, mu, k)\n",
    "\n",
    "\n",
    "# define parameters\n",
    "k = 5\n",
    "max_iter = 100\n",
    "threshold = 1e-7\n",
    "\n",
    "# use kmeans to compress image\n",
    "kmean_compression(original_image, processed_image, k, max_iter, threshold)"
   ]
  }
 ],
 "metadata": {
  "language_info": {
   "name": "python"
  }
 },
 "nbformat": 4,
 "nbformat_minor": 1
}
